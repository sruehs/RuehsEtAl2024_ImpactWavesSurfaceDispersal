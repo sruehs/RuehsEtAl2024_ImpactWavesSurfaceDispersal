{
 "cells": [
  {
   "cell_type": "markdown",
   "metadata": {},
   "source": [
    "- Filename: Eval-Speed_Plot-Fig3Fig4FigS1.ipynb\n",
    "- Author: Siren Rühs (s.ruhs@uu.nl)\n",
    "- Created: June 2023\n",
    "- Last updated: Aug 2nd 2024\n",
    "- Description:\n",
    "Jupyter notebook accompanying the manuscript \"Non-negligible impact of Stokes drift and wave-driven Eulerian currents on simulated surface particle dispersal in the Mediterranean Sea\" by Rühs et al., used to produce Figures 3, 4, and S1"
   ]
  },
  {
   "cell_type": "markdown",
   "metadata": {},
   "source": [
    "# Comparing gridded surface speed from ocean-only (uncoupled) and ocean-wave (coupled) model simulations for the Mediterranean Sea"
   ]
  },
  {
   "cell_type": "markdown",
   "metadata": {},
   "source": [
    "# 1. General Settings"
   ]
  },
  {
   "cell_type": "markdown",
   "metadata": {},
   "source": [
    "### 1.1 Load modules and check versions"
   ]
  },
  {
   "cell_type": "code",
   "execution_count": 16,
   "metadata": {},
   "outputs": [],
   "source": [
    "from glob import glob\n",
    "\n",
    "import xarray as xr\n",
    "import numpy as np\n",
    "\n",
    "import datetime\n",
    "\n",
    "%matplotlib inline\n",
    "import matplotlib.pyplot as plt\n",
    "from matplotlib import colors\n",
    "from matplotlib.offsetbox import AnchoredText\n",
    "from matplotlib.colors import LinearSegmentedColormap\n",
    "from matplotlib import cm\n",
    "\n",
    "import utils\n",
    "from utils import ColorSettings as cparams"
   ]
  },
  {
   "cell_type": "code",
   "execution_count": 17,
   "metadata": {},
   "outputs": [
    {
     "name": "stdout",
     "output_type": "stream",
     "text": [
      "xarray==2022.12.0\n",
      "matplotlib==3.6.2\n",
      "numpy==1.24.1\n"
     ]
    }
   ],
   "source": [
    "utils.print_imported_package_versions(globals())"
   ]
  },
  {
   "cell_type": "markdown",
   "metadata": {},
   "source": [
    "### 1.2 Set input and output paths"
   ]
  },
  {
   "cell_type": "code",
   "execution_count": 18,
   "metadata": {},
   "outputs": [],
   "source": [
    "gridpath = '../data-orig/'\n",
    "\n",
    "maskpath = '../data-proc/domain/'\n",
    "\n",
    "datapath = '../data-proc/eul/speed/'\n",
    "\n",
    "outpath_figs = '../figs/'"
   ]
  },
  {
   "cell_type": "markdown",
   "metadata": {},
   "source": [
    "### 1.3 Define custom parameters"
   ]
  },
  {
   "cell_type": "code",
   "execution_count": 19,
   "metadata": {},
   "outputs": [],
   "source": [
    "# Define whether Mediterranean Sea mask (excluding Atlantic grid points) should be created and saved\n",
    "# This is necessary for the calculation of the Mediterranean Sea mean\n",
    "# Only has to be performed once\n",
    "key_create_Mask_MedSea = True"
   ]
  },
  {
   "cell_type": "code",
   "execution_count": 20,
   "metadata": {},
   "outputs": [],
   "source": [
    "col_blue = cparams.blue\n",
    "col_cyan = cparams.cyan\n",
    "col_green = cparams.green\n",
    "col_yellow = cparams.yellow\n",
    "col_red = cparams.red\n",
    "col_purple = cparams.purple\n",
    "col_grey = cparams.grey\n",
    "\n",
    "alpha = 0.5\n",
    "col_blue_alpha = (cparams.blue[0], cparams.blue[1], cparams.blue[2],\n",
    "                  alpha)\n",
    "col_yellow_alpha = (cparams.yellow[0], cparams.yellow[1], cparams.yellow[2],\n",
    "                    alpha)\n",
    "col_grey_alpha = (cparams.grey[0], cparams.grey[1], cparams.grey[2],\n",
    "                  alpha)\n",
    "col_black_alpha = (0, 0, 0, 0.65)\n",
    "\n",
    "# not in original color scale\n",
    "col_darkgrey = (50/255, 50/255, 50/255)"
   ]
  },
  {
   "cell_type": "markdown",
   "metadata": {},
   "source": [
    "## 2. Loading Data"
   ]
  },
  {
   "cell_type": "code",
   "execution_count": 21,
   "metadata": {},
   "outputs": [],
   "source": [
    "grid = xr.open_dataset(\n",
    "    gridpath + 'mesh_mask.nc', drop_variables=('x', 'y'))\n",
    "\n",
    "regionmask = xr.open_dataset(\n",
    "    maskpath + 'MEDregions.nc').rename({'jm': 'y', 'im': 'x'})"
   ]
  },
  {
   "cell_type": "code",
   "execution_count": 22,
   "metadata": {},
   "outputs": [],
   "source": [
    "speed_tave_ds = xr.open_mfdataset(sorted(glob(datapath\n",
    "                                              + 'Speed-tave-fulldepth-*.nc')),\n",
    "                                              combine='nested', concat_dim='z')\n",
    "\n",
    "speed_tsave_ds = xr.open_mfdataset(sorted(glob(datapath\n",
    "                                               + 'Speed-tseasonave-fulldepth-*.nc')),\n",
    "                                               combine='nested', concat_dim='z')"
   ]
  },
  {
   "cell_type": "code",
   "execution_count": 23,
   "metadata": {},
   "outputs": [],
   "source": [
    "speed_rave_ds = xr.open_dataset(datapath + 'Speed-rave-z001.nc')"
   ]
  },
  {
   "cell_type": "markdown",
   "metadata": {},
   "source": [
    "# 3. Additional Analysis"
   ]
  },
  {
   "cell_type": "markdown",
   "metadata": {},
   "source": [
    "### 3.1 Mask for Mediterranean Sea only (exlcluding Atlantic grid points)"
   ]
  },
  {
   "cell_type": "code",
   "execution_count": 24,
   "metadata": {},
   "outputs": [
    {
     "data": {
      "text/plain": [
       "<matplotlib.collections.QuadMesh at 0x15d437220>"
      ]
     },
     "execution_count": 24,
     "metadata": {},
     "output_type": "execute_result"
    },
    {
     "data": {
      "image/png": "[encoded data removed]",
      "text/plain": [
       "<Figure size 640x480 with 2 Axes>"
      ]
     },
     "metadata": {},
     "output_type": "display_data"
    }
   ],
   "source": [
    "if key_create_Mask_MedSea == True:\n",
    "    base = speed_tave_ds.EncSc.isel(z=0) * 0\n",
    "    test1 = base.where(base.nav_lon > -1, 1)\n",
    "    test2 = base.where(base.nav_lat < 43, 1)\n",
    "    test3 = test1 + test2\n",
    "    test4 = test3.where(base.nav_lon > -5.7, 2)\n",
    "    Mask_MedSea = ((test4.where(test4 != 2))*0+1).rename('Mask_MedSea')\n",
    "    Mask_MedSea.to_netcdf(maskpath + 'Mask_MedSea.nc')\n",
    "else:\n",
    "    Mask_MedSea_ds = xr.open_dataset(maskpath + 'Mask_MedSea.nc')\n",
    "    Mask_MedSea = Mask_MedSea_ds.Mask_MedSea\n",
    "\n",
    "Mask_MedSea.plot()\n",
    "    "
   ]
  },
  {
   "cell_type": "markdown",
   "metadata": {},
   "source": [
    "### 3.2 Spatially averaged temporal evolution of the impact of waves on speed"
   ]
  },
  {
   "cell_type": "code",
   "execution_count": 25,
   "metadata": {},
   "outputs": [],
   "source": [
    "speed_rsave_imp_al = speed_rave_ds.EcSc - speed_rave_ds.Enc\n",
    "speed_rsave_imp_sd = speed_rave_ds.ScProjEcSc\n",
    "speed_rsave_imp_ec = (speed_rave_ds.EcSc\n",
    "                      - speed_rave_ds.ScProjEcSc - speed_rave_ds.Enc)\n",
    "# alterantive formulation for speed_rsave_imp_ec:\n",
    "# speed_rsave_imp_ec = speed_rave_ds.EcProjEcSc - speed_rave_ds.Enc\n",
    "# analytically identical, but very minor differences O(10^-7) due to numerical errors"
   ]
  },
  {
   "cell_type": "code",
   "execution_count": 26,
   "metadata": {},
   "outputs": [],
   "source": [
    "speed_tsave_nc_xyave = speed_tsave_ds.Enc.where(\n",
    "    Mask_MedSea == 1).mean(dim={'x', 'y'}, skipna=True)\n",
    "speed_tsave_c_xyave = speed_tsave_ds.EcSc.where(\n",
    "    Mask_MedSea == 1).mean(dim={'x', 'y'}, skipna=True)\n",
    "\n",
    "speed_tave_nc_xyave = speed_tave_ds.Enc.where(\n",
    "    Mask_MedSea == 1).mean(dim={'x', 'y'}, skipna=True)\n",
    "speed_tave_c_xyave = speed_tave_ds.EcSc.where(\n",
    "    Mask_MedSea == 1).mean(dim={'x', 'y'}, skipna=True)"
   ]
  },
  {
   "cell_type": "code",
   "execution_count": 27,
   "metadata": {},
   "outputs": [],
   "source": [
    "#def calc_weighted2Dave(tsave):\n",
    "#    zweight_tmp = grid.umask.squeeze() * grid.e1u * grid.e2u\n",
    "#    zweight = zweight_tmp/zweight_tmp.sum(dim=('x', 'y'), skipna=True)\n",
    "#    xyave = (tsave*zweight).sum(dim=('x', 'y'), skipna=True)\n",
    "#   return xyave.values\n",
    "\n",
    "#speed_tsave_nc_xyave_v2 = calc_weighted2Dave(\n",
    "#    speed_tsave_ds.Enc.where(Mask_MedSea == 1))\n"
   ]
  },
  {
   "cell_type": "markdown",
   "metadata": {},
   "source": [
    "### 3.3 Changes in the vertical profiles of speed (coupled vs uncoupled)\n",
    "\n",
    "The following procedure is adopted:\n",
    "1) Calculate difference in annual/seasonal mean speed per grid point\n",
    "3) Perform regional averaging"
   ]
  },
  {
   "cell_type": "code",
   "execution_count": 28,
   "metadata": {},
   "outputs": [],
   "source": [
    "speed_tsave_imp_al = speed_tsave_ds.EcSc - speed_tsave_ds.Enc\n",
    "speed_tsave_imp_sd = speed_tsave_ds.ScProjEcSc\n",
    "speed_tsave_imp_ec = speed_tsave_ds.EcSc - speed_tsave_ds.ScProjEcSc - speed_tsave_ds.Enc\n",
    "\n",
    "speed_tave_imp_al = speed_tave_ds.EcSc - speed_tave_ds.Enc\n",
    "speed_tave_imp_sd = speed_tave_ds.ScProjEcSc\n",
    "speed_tave_imp_ec = speed_tave_ds.EcSc - speed_tave_ds.ScProjEcSc - speed_tave_ds.Enc"
   ]
  },
  {
   "cell_type": "code",
   "execution_count": 29,
   "metadata": {},
   "outputs": [],
   "source": [
    "speed_tsave_imp_al_xyave = speed_tsave_imp_al.where(\n",
    "    Mask_MedSea == 1).mean(dim={'x', 'y'}, skipna=True)\n",
    "speed_tsave_imp_sd_xyave = speed_tsave_imp_sd.where(\n",
    "    Mask_MedSea == 1).mean(dim={'x', 'y'}, skipna=True)\n",
    "speed_tsave_imp_ec_xyave = speed_tsave_imp_ec.where(\n",
    "    Mask_MedSea == 1).mean(dim={'x', 'y'}, skipna=True)\n",
    "\n",
    "speed_tave_imp_al_xyave = speed_tave_imp_al.where(\n",
    "    Mask_MedSea == 1).mean(dim={'x', 'y'}, skipna=True)\n",
    "speed_tave_imp_sd_xyave = speed_tave_imp_sd.where(\n",
    "    Mask_MedSea == 1).mean(dim={'x', 'y'}, skipna=True)\n",
    "speed_tave_imp_ec_xyave = speed_tave_imp_ec.where(\n",
    "    Mask_MedSea == 1).mean(dim={'x', 'y'}, skipna=True)"
   ]
  },
  {
   "cell_type": "markdown",
   "metadata": {},
   "source": [
    "### 3.4 Calculate vertically integrated impact of waves"
   ]
  },
  {
   "cell_type": "code",
   "execution_count": null,
   "metadata": {},
   "outputs": [],
   "source": [
    "def calc_weightedzave(xyave, zslice):\n",
    "    zweight_tmp = grid.umask * grid.e1u * grid.e2u * grid.e3u_0\n",
    "    zweight_tmp2 = zweight_tmp.isel(nav_lev=zslice).sum(dim=(\n",
    "        'x', 'y'), skipna=True)/zweight_tmp.isel(nav_lev=zslice).sum(dim=('x', 'y', 'nav_lev'), skipna=True)\n",
    "    zweight = zweight_tmp2.rename({'nav_lev': 'z'})\n",
    "\n",
    "    zave = ((xyave.squeeze()\n",
    "             )*zweight.squeeze()\n",
    "            ).sum()\n",
    "\n",
    "    return zave.values"
   ]
  },
  {
   "cell_type": "code",
   "execution_count": null,
   "metadata": {},
   "outputs": [],
   "source": [
    "maxz_values = [7, 25, 140]\n",
    "\n",
    "for maxz in maxz_values:\n",
    "\n",
    "    print('Weighted vertical averages of total current speed (zlevels 0 to ' + str(maxz) + ')',\n",
    "          'i.e., for the upper ' + str(grid.nav_lev.isel(nav_lev=maxz).values) + ' meters')\n",
    "\n",
    "    speed_tsave_imp_ec_xyave_DJF_zmean = calc_weightedzave(\n",
    "        speed_tsave_imp_ec_xyave.sel(season='DJF'), slice(0, maxz, 1))\n",
    "    speed_tsave_imp_ec_xyave_JJA_zmean = calc_weightedzave(\n",
    "        speed_tsave_imp_ec_xyave.sel(season='JJA'), slice(0, maxz, 1))\n",
    "    speed_tsave_imp_al_xyave_DJF_zmean = calc_weightedzave(\n",
    "        speed_tsave_imp_al_xyave.sel(season='DJF'),slice(0, maxz, 1))\n",
    "    speed_tsave_imp_al_xyave_JJA_zmean = calc_weightedzave(\n",
    "        speed_tsave_imp_al_xyave.sel(season='JJA'),slice(0, maxz, 1))\n",
    "    speed_tsave_imp_sd_xyave_DJF_zmean = calc_weightedzave(\n",
    "        speed_tsave_imp_sd_xyave.sel(season='DJF'),slice(0, maxz, 1))\n",
    "    speed_tsave_imp_sd_xyave_JJA_zmean = calc_weightedzave(\n",
    "        speed_tsave_imp_sd_xyave.sel(season='JJA'),slice(0, maxz, 1))\n",
    "\n",
    "    print('Total impact')\n",
    "    print('winter: ' + str(speed_tsave_imp_al_xyave_DJF_zmean))\n",
    "    print('summer: ' + str(speed_tsave_imp_al_xyave_JJA_zmean))\n",
    "\n",
    "    print('Eulerian current contribution')\n",
    "    print('winter: ' + str(speed_tsave_imp_ec_xyave_DJF_zmean))\n",
    "    print('summer: ' + str(speed_tsave_imp_ec_xyave_JJA_zmean))\n",
    "\n",
    "    print('Stokes drift contribution')\n",
    "    print('winter: ' + str(speed_tsave_imp_sd_xyave_DJF_zmean))\n",
    "    print('summer: ' + str(speed_tsave_imp_sd_xyave_JJA_zmean))"
   ]
  },
  {
   "cell_type": "markdown",
   "metadata": {},
   "source": [
    "## 4. Visualization"
   ]
  },
  {
   "cell_type": "markdown",
   "metadata": {},
   "source": [
    "### 4.1 Figure 3: Impact of surface waves on simulated horizontal Lagrangian speed averaged over whole Mediterranean Sea\n",
    "Caption: (a) Temporal variability of the impact of waves on surface speed: daily (thin) and monthly filtered (thick, 30-day running mean) timeseries of the total wave impact (solid line) and the corresponding Stokes drift (dashed line) and Eulerian current (dotted line) contributions. (b) Full timeseries of the simulated Lagrangian surface speed for the coupled and non-coupled simulations. (c) Vertical profile of the impact of waves for winter (DJF, blue) and summer (JJA, yellow), note that the vertical axis is split and that the Stokes drift component is zero for all depths displayed in the lower part (i.e., the curves for the total impact and the Eulerian current contribution lay on top of each other)."
   ]
  },
  {
   "cell_type": "code",
   "execution_count": 30,
   "metadata": {},
   "outputs": [],
   "source": [
    "# define plotting parameters\n",
    "\n",
    "fs = 'xx-small'\n",
    "lw = 0.5\n",
    "lw2 = 1.0\n",
    "lw3 = 1.2\n",
    "lw_box = 0.8\n",
    "col = col_darkgrey\n",
    "col2 = col_grey\n",
    "ymin = -0.035\n",
    "ymax = 0.045\n",
    "ymin2 = 0.105\n",
    "ymax2 = 0.195"
   ]
  },
  {
   "cell_type": "code",
   "execution_count": 31,
   "metadata": {},
   "outputs": [],
   "source": [
    "# define custom plotting functions\n",
    "\n",
    "def plot_depthprofiles_impact(zmin, zmax, linew):\n",
    "\n",
    "    # summer profiles\n",
    "    plt.plot(speed_tsave_imp_ec_xyave.sel(season='DJF').isel(z=slice(zmin, zmax+1, 1))*0,\n",
    "             -speed_tsave_imp_ec_xyave.z.isel(z=slice(zmin, zmax+1, 1)),\n",
    "             color='k', linewidth=linew)\n",
    "    plt.plot(speed_tsave_imp_al_xyave.sel(season='JJA').isel(z=slice(zmin, zmax+1, 1)),\n",
    "             -speed_tsave_imp_al_xyave.z.isel(z=slice(zmin, zmax+1, 1)),\n",
    "             color=col_yellow, linewidth=linew,\n",
    "             label='total JJA')\n",
    "    plt.plot(speed_tsave_imp_sd_xyave.sel(season='JJA').isel(z=slice(zmin, zmax+1, 1)),\n",
    "             -speed_tsave_imp_sd_xyave.z.isel(z=slice(zmin, zmax+1, 1)),\n",
    "             color=col_yellow, linewidth=linew, linestyle='dashed',\n",
    "             label='Stokes JJA')\n",
    "    plt.plot(speed_tsave_imp_ec_xyave.sel(season='JJA').isel(z=slice(zmin, zmax+1, 1)),\n",
    "             -speed_tsave_imp_ec_xyave.z.isel(z=slice(zmin, zmax+1, 1)),\n",
    "             color=col_yellow, linewidth=linew, linestyle='dotted',\n",
    "             label='Euler JJA')\n",
    "    \n",
    "    #winter profiles\n",
    "    plt.plot(speed_tsave_imp_al_xyave.sel(season='DJF').isel(z=slice(zmin, zmax+1, 1)),\n",
    "             -speed_tsave_imp_al_xyave.z.isel(z=slice(zmin, zmax+1, 1)),\n",
    "             color=col_blue, linewidth=linew,\n",
    "             label='total DJF')\n",
    "    plt.plot(speed_tsave_imp_sd_xyave.sel(season='DJF').isel(z=slice(zmin, zmax+1, 1)),\n",
    "             -speed_tsave_imp_sd_xyave.z.isel(z=slice(zmin, zmax+1, 1)),\n",
    "             color=col_blue, linewidth=linew, linestyle='dashed',\n",
    "             label='Stokes DJF')\n",
    "    plt.plot(speed_tsave_imp_ec_xyave.sel(season='DJF').isel(z=slice(zmin, zmax+1, 1)),\n",
    "             -speed_tsave_imp_ec_xyave.z.isel(z=slice(zmin, zmax+1, 1)),\n",
    "             color=col_blue, linewidth=linew, linestyle='dotted',\n",
    "             label='Euler DJF')"
   ]
  },
  {
   "cell_type": "code",
   "execution_count": null,
   "metadata": {},
   "outputs": [],
   "source": [
    "# do the plotting\n",
    "\n",
    "fig = plt.figure(figsize=(6, 6), dpi=300, constrained_layout=False)\n",
    "gs = fig.add_gridspec(nrows=6, ncols=3,\n",
    "                      left=0.1, right=0.9,\n",
    "                      wspace=0.1, hspace=0.07)\n",
    "\n",
    "ax = fig.add_subplot(gs[0:2, 0:2])\n",
    "ax.fill_between([datetime.date(2019, 1, 1), datetime.date(2019, 2, 28)],\n",
    "                [ymin, ymin], [ymax, ymax],\n",
    "                color=col_blue, alpha=0.2)\n",
    "ax.fill_between([datetime.date(2019, 12, 1), datetime.date(2020, 2, 28)],\n",
    "                [ymin, ymin], [ymax, ymax],\n",
    "                color=col_blue, alpha=0.2)\n",
    "ax.fill_between([datetime.date(2020, 12, 1), datetime.date(2020, 12, 31)],\n",
    "                [ymin, ymin], [ymax, ymax],\n",
    "                color=col_blue, alpha=0.2)\n",
    "ax.fill_between([datetime.date(2019, 6, 1), datetime.date(2019, 8, 31)],\n",
    "                [ymin, ymin], [ymax, ymax],\n",
    "                color=col_yellow, alpha=0.2)\n",
    "ax.fill_between([datetime.date(2020, 6, 1), datetime.date(2020, 8, 31)],\n",
    "                [ymin, ymin], [ymax, ymax],\n",
    "                color=col_yellow, alpha=0.2)\n",
    "ax.plot(speed_rsave_imp_al.time_counter, speed_rsave_imp_al*0,\n",
    "        color='k', linewidth=lw)\n",
    "ax.plot(speed_rsave_imp_al.time_counter, speed_rsave_imp_al,\n",
    "        color=col, linewidth=lw)\n",
    "ax.plot(speed_rsave_imp_al.time_counter,\n",
    "        speed_rsave_imp_al.rolling(time_counter=30, center=True).mean(),\n",
    "        color=col, linewidth=lw3,\n",
    "        label='total impact')\n",
    "ax.plot(speed_rsave_imp_al.time_counter, speed_rsave_imp_sd,\n",
    "        color=col, linestyle='dashed', linewidth=lw)\n",
    "ax.plot(speed_rsave_imp_al.time_counter,\n",
    "        speed_rsave_imp_sd.rolling(time_counter=30, center=True).mean(),\n",
    "        color=col, linestyle='dashed', linewidth=lw3,\n",
    "        label='Stokes drift contr.')\n",
    "ax.plot(speed_rsave_imp_al.time_counter, speed_rsave_imp_ec,\n",
    "        color=col, linestyle='dotted', linewidth=lw)\n",
    "ax.plot(speed_rsave_imp_al.time_counter,\n",
    "        speed_rsave_imp_ec.rolling(time_counter=30, center=True).mean(),\n",
    "        color=col, linestyle='dotted', linewidth=lw3,\n",
    "        label='Eulerian current contr.')\n",
    "# add legend\n",
    "ax.legend(loc='lower center', mode='expand',  # bbox_to_anchor=(0.5, 0.9),\n",
    "          ncol=3, fancybox=True, fontsize=fs)\n",
    "ax.tick_params(labelsize=fs)\n",
    "ax.set_xticklabels([])\n",
    "ax.set_xlim([datetime.date(2019, 1, 1), datetime.date(2020, 12, 31)])\n",
    "ax.set_ylim([ymin, ymax])\n",
    "ax.set_ylabel('Change in speed [$ms^{-1}$]', fontsize=fs)\n",
    "ax.set_title('Basin-wide averaged impact of waves on horizontal Lagrangian surface speed',\n",
    "             fontsize=fs, horizontalalignment='center')\n",
    "at = AnchoredText('a)', prop=dict(size=fs), frameon=True, loc='upper left')\n",
    "at.patch.set_linewidth(lw_box)\n",
    "ax.add_artist(at)\n",
    "\n",
    "\n",
    "ax = fig.add_subplot(gs[2:4, 0:2])\n",
    "ax.fill_between([datetime.date(2019, 1, 1), datetime.date(2019, 2, 28)],\n",
    "                [ymin2, ymin2], [ymax2, ymax2],\n",
    "                color=col_blue, alpha=0.2)\n",
    "ax.fill_between([datetime.date(2019, 12, 1), datetime.date(2020, 2, 28)],\n",
    "                [ymin2, ymin2], [ymax2, ymax2],\n",
    "                color=col_blue, alpha=0.2)\n",
    "ax.fill_between([datetime.date(2020, 12, 1), datetime.date(2020, 12, 31)],\n",
    "                [ymin2, ymin2], [ymax2, ymax2],\n",
    "                color=col_blue, alpha=0.2)\n",
    "ax.fill_between([datetime.date(2019, 6, 1), datetime.date(2019, 8, 31)],\n",
    "                [ymin2, ymin2], [ymax2, ymax2],\n",
    "                color=col_yellow, alpha=0.2)\n",
    "ax.fill_between([datetime.date(2020, 6, 1), datetime.date(2020, 8, 31)],\n",
    "                [ymin2, ymin2], [ymax2, ymax2],\n",
    "                color=col_yellow, alpha=0.2)\n",
    "ax.plot(speed_rave_ds.time_counter, speed_rave_ds.EcSc,\n",
    "        color=col, linewidth=lw)\n",
    "ax.plot(speed_rave_ds.time_counter,\n",
    "        speed_rave_ds.EcSc.rolling(time_counter=30, center=True).mean(),\n",
    "        color=col, linewidth=lw3,\n",
    "        label='coupled')\n",
    "ax.plot(speed_rave_ds.time_counter, speed_rave_ds.Enc,\n",
    "        color=col2, linewidth=lw)\n",
    "ax.plot(speed_rave_ds.time_counter,\n",
    "        speed_rave_ds.Enc.rolling(time_counter=30, center=True).mean(),\n",
    "        color=col2, linewidth=lw3,\n",
    "        label='non-coupled')\n",
    "ax.tick_params(labelsize=fs)\n",
    "ax.set_xlim([datetime.date(2019, 1, 1), datetime.date(2020, 12, 31)])\n",
    "ax.set_ylim([ymin2, ymax2])\n",
    "ax.set_ylabel('Speed [$ms^{-1}$]', fontsize=fs)\n",
    "ax.set_xlabel('Time', fontsize=fs)\n",
    "ax.legend(loc='lower right',\n",
    "          ncol=2, fancybox=True, fontsize=fs)\n",
    "at = AnchoredText('b)', prop=dict(size=fs), frameon=True, loc='upper left')\n",
    "at.patch.set_linewidth(lw_box)\n",
    "ax.add_artist(at)\n",
    "\n",
    "ax = fig.add_subplot(gs[0:1, 2:3])\n",
    "plot_depthprofiles_impact(0, 6, lw2)\n",
    "ax.set_xlim([-0.013, 0.013])\n",
    "ax.tick_params(labelsize=fs)\n",
    "ax.yaxis.set_label_position(\"right\")\n",
    "ax.yaxis.tick_right()\n",
    "ax.set_yticks([-15, -10, -5])\n",
    "ax.set_yticklabels(['15', '10', '5'])\n",
    "ax.set_ylabel('Depth [$m$]', fontsize=fs)\n",
    "ax.set_title('Impact on vertical profile',\n",
    "             fontsize=fs, horizontalalignment='center')\n",
    "at = AnchoredText('c)', prop=dict(size=fs), frameon=True, loc='upper left')\n",
    "at.patch.set_linewidth(lw_box)\n",
    "ax.add_artist(at)\n",
    "\n",
    "ax = fig.add_subplot(gs[1:4, 2:3])\n",
    "plot_depthprofiles_impact(7, 65, lw2)\n",
    "ax.set_xlim([-0.013, 0.013])\n",
    "ax.tick_params(labelsize=fs)\n",
    "ax.yaxis.set_label_position(\"right\")\n",
    "ax.yaxis.tick_right()\n",
    "ax.set_ylabel('Depth [$m$]', fontsize=fs)\n",
    "ax.set_ylim([-930, -15])\n",
    "ax.set_yticks([-750, -500, -250])\n",
    "ax.set_yticklabels(['750', '500', '250'])\n",
    "ax.set_xlabel('Change in speed [$m s^{-1}$]', fontsize=fs)\n",
    "ax.legend(loc='lower right', mode='expand', markerscale=0.5,\n",
    "          ncol=2, fancybox=True, fontsize=fs)"
   ]
  },
  {
   "cell_type": "code",
   "execution_count": null,
   "metadata": {},
   "outputs": [],
   "source": [
    "# save the Figure\n",
    "\n",
    "fig.savefig('../figs/png/fig03.png', dpi=300,\n",
    "            bbox_inches='tight', pad_inches=0.1)\n",
    "fig.savefig('../figs/png-transparent/fig03.png', dpi=300,\n",
    "            bbox_inches='tight', pad_inches=0.1,\n",
    "            transparent=True)"
   ]
  },
  {
   "cell_type": "markdown",
   "metadata": {},
   "source": [
    "### 4.2 Figure 4: Regionally averaged impact of the representation of surface waves on simulated mean Lagrangian surface on annual, summer, and winter mean speed\n",
    "\n",
    "Caption:(a)-(c) Total impact of the representation of waves, (d)-(f) Stokes drift ontribution, (g)-(h) Eulerian current contribuition. Averages were calculated over the following regions: (1) Alboran Sea, (2) South West Med 1 (western part), (3) North West Med, (4) South West Med 2 (eastern part), (5) Tyrrhenian Sea 2 (southern part), (6) Tyrrhenian Sea (northern part), (7) Ionian Sea 1 (western part), (8) Ionian Sea 2 (south-eastern part), (9) Ionian Sea 3 (north-eastern part), (10) Adriatic Sea 2 (southern part), (11) Adriatic Sea 1 (northern part), (12) Levantine Sea 1 (western part), (13) Aegean Sea, (14) Levantine Sea 2 (central-northern part), (15) Levantine Sea 3 (central southern part), (16) Levantine Sea 4 (eastern part)."
   ]
  },
  {
   "cell_type": "code",
   "execution_count": 32,
   "metadata": {},
   "outputs": [],
   "source": [
    "lonmin_plot = -7\n",
    "lonmax_plot = 36\n",
    "latmin_plot = 30.5\n",
    "latmax_plot = 46\n",
    "xticks = [0,10,20,30]\n",
    "yticks = [35,40,45]\n",
    "xticklabs = ['0° E','10° E','20° E', '30° E']\n",
    "yticklabs = ['35° N','40° N','45° N']\n",
    "\n",
    "fs='xx-small'\n",
    "\n",
    "def calc_reg_ave(var):\n",
    "    var_rave = var.copy()*0\n",
    "    var_rave_slim_list = []\n",
    "    for i in range(17):\n",
    "        reg = float(i + 1)\n",
    "        regmask = regionmask.regs.assign_coords({'nav_lon':var.nav_lon, 'nav_lat':var.nav_lat})\n",
    "        tmp = var.where(regionmask.regs == reg).where(Mask_MedSea == 1).mean(dim=['x','y'], skipna=True)\n",
    "        tmp2 = (var.where(regionmask.regs == reg).where(Mask_MedSea == 1)*0 + tmp).fillna(0)\n",
    "        var_rave = var_rave + tmp2\n",
    "        var_rave_slim_list.append(tmp)\n",
    "    var_rave_slim = xr.concat(var_rave_slim_list, dim='regs').assign_coords({'regs':np.arange(17)+1})\n",
    "    return var_rave, var_rave_slim\n",
    "\n",
    "def plot_bathy():\n",
    "    var = grid.umaskutil\n",
    "    var.rename({'x':'lon', 'y':'lat'})\n",
    "    colors = [(0.5, 0.5, 0.5),(0.5,0.5,0.5)] \n",
    "    cmap_name = 'landgrey'\n",
    "    cmapland = LinearSegmentedColormap.from_list(cmap_name, colors)\n",
    "    map = plt.pcolor(grid.glamu.isel(time_counter=0), grid.gphiu.isel(time_counter=0),\n",
    "                     var.where(var!=1).isel(time_counter=0),\n",
    "                     cmap = cmapland, \n",
    "                     shading='nearest')\n",
    "    \n",
    "def add_regnumbers():\n",
    "    ax.text(-3.2,35.8,\"1\", fontsize=fs)\n",
    "    ax.text(2.2,37.7,\"2\", fontsize=fs)\n",
    "    ax.text(5,41,\"3\", fontsize=fs)\n",
    "    ax.text(6.8,38,\"4\", fontsize=fs)\n",
    "    ax.text(12,39,\"5\", fontsize=fs)\n",
    "    ax.text(10,41.5,\"6\", fontsize=fs)\n",
    "    ax.text(12,34.5,\"7\", fontsize=fs)\n",
    "    ax.text(18,33.5,\"8\", fontsize=fs)\n",
    "    ax.text(18,38,\"9\", fontsize=fs)\n",
    "    ax.text(17,41,\"10\", fontsize=fs)\n",
    "    ax.text(14.3,43,\"11\", fontsize=fs)\n",
    "    ax.text(23,33.5,\"12\", fontsize=fs)\n",
    "    ax.text(24,36,\"13\", fontsize=fs)\n",
    "    ax.text(29,34,\"14\", fontsize=fs)\n",
    "    ax.text(28.5,32,\"15\", fontsize=fs)\n",
    "    ax.text(33,33,\"16\", fontsize=fs)\n",
    "\n",
    "\n",
    "def build_subplot_pcolorregspeeddiff(var1, var2, colm, norm, xticklabel=True, yticklabel=True, perc=False):\n",
    "    if perc==False:\n",
    "        var_tmp = (var1 - var2)\n",
    "    if perc==True:\n",
    "        var_tmp = ((var1 - var2)/var2)*100\n",
    "        mean = var_tmp.mean(dim={'x','y'})\n",
    "    var, var_slim = calc_reg_ave(var_tmp)\n",
    "    map = plt.pcolor(var.nav_lon, var.nav_lat,\n",
    "                     var,\n",
    "                     cmap=colm, norm=norm,\n",
    "                     shading='nearest')\n",
    "    plot_bathy()\n",
    "    if perc==True:\n",
    "        if mean < 0:\n",
    "            ax.text(31,43, '-' + str(np.abs(int(mean.round().values))) + '%', ha='center', fontsize=fs)\n",
    "        if mean > 0:\n",
    "            ax.text(31,43, '+' + str(int(mean.round().values)) + '%', ha='center', fontsize=fs)\n",
    "    ax.set_xlim([lonmin_plot,lonmax_plot])\n",
    "    ax.set_ylim([latmin_plot,latmax_plot])\n",
    "    ax.set_xticks(xticks)\n",
    "    ax.set_yticks(yticks)\n",
    "    ax.set_xticklabels(xticklabs)\n",
    "    ax.set_yticklabels(yticklabs)\n",
    "    if xticklabel==False:\n",
    "        ax.set_xticklabels([])\n",
    "    if yticklabel==False:\n",
    "        ax.set_yticklabels([])\n",
    "    ax.tick_params(axis='both', labelsize=fs)\n",
    "    return map,var_slim\n",
    "\n",
    "def build_subplot_pcolorregspeeddiff2(var1, colm, norm, xticklabel=True, yticklabel=True):\n",
    "    var_tmp = var1\n",
    "    var, var_slim = calc_reg_ave(var_tmp)\n",
    "    map = plt.pcolor(var.nav_lon, var.nav_lat,\n",
    "                     var,\n",
    "                     cmap=colm, norm=norm,\n",
    "                     shading='nearest')\n",
    "    plot_bathy()\n",
    "    ax.set_xlim([lonmin_plot,lonmax_plot])\n",
    "    ax.set_ylim([latmin_plot,latmax_plot])\n",
    "    ax.set_xticks(xticks)\n",
    "    ax.set_yticks(yticks)\n",
    "    ax.set_xticklabels(xticklabs)\n",
    "    ax.set_yticklabels(yticklabs)\n",
    "    if xticklabel==False:\n",
    "        ax.set_xticklabels([])\n",
    "    if yticklabel==False:\n",
    "        ax.set_yticklabels([])\n",
    "    ax.tick_params(axis='both', labelsize=fs)\n",
    "    return map,var_slim\n",
    "\n",
    "def build_subplot_regstats(Tot_ann,Tot_jja,Tot_djf,Sto_ann,Sto_jja,Sto_djf,Eul_ann,Eul_jja,Eul_djf):\n",
    "    col_jja = col_yellow_alpha #'khaki'\n",
    "    col_jja2 = col_yellow #'darkkhaki'\n",
    "    col_djf = col_blue_alpha #'lightgrey'\n",
    "    col_djf2 = col_blue\n",
    "    sym_eul = 's'\n",
    "    sym_sto = '^'\n",
    "    msize = 2\n",
    "    bwidth = 0.15\n",
    "    ax.bar(Tot_ann.isel(regs=np.arange(0,16,1)).regs, Tot_ann.isel(regs=np.arange(0,16,1)), color = col_black_alpha, width = bwidth, label='total Annual')\n",
    "    ax.bar(Tot_jja.isel(regs=np.arange(0,16,1)).regs-bwidth, Tot_jja.isel(regs=np.arange(0,16,1)), color = col_jja, width = bwidth, label='total Summer')\n",
    "    ax.bar(Tot_djf.isel(regs=np.arange(0,16,1)).regs+bwidth, Tot_djf.isel(regs=np.arange(0,16,1)), color = col_djf, width = bwidth, label='total Winter')\n",
    "    ax.scatter(Sto_ann.isel(regs=np.arange(0,16,1)).regs, Sto_ann.isel(regs=np.arange(0,16,1)), color = 'k', marker=sym_sto, s=msize, label='Stokes Annual')\n",
    "    ax.scatter(Sto_jja.isel(regs=np.arange(0,16,1)).regs-bwidth, Sto_jja.isel(regs=np.arange(0,16,1)), color = col_jja2, marker=sym_sto, s=msize, label='Stokes Summer')\n",
    "    ax.scatter(Sto_djf.isel(regs=np.arange(0,16,1)).regs+bwidth, Sto_djf.isel(regs=np.arange(0,16,1)), color = col_djf2, marker=sym_sto, s=msize, label='Stokes Winter')\n",
    "    ax.scatter(Eul_ann.isel(regs=np.arange(0,16,1)).regs, Eul_ann.isel(regs=np.arange(0,16,1)), color = 'k', marker=sym_eul, s=msize, label='Euler Annual')\n",
    "    ax.scatter(Eul_jja.isel(regs=np.arange(0,16,1)).regs-bwidth, Eul_jja.isel(regs=np.arange(0,16,1)), color = col_jja2, marker=sym_eul, s=msize, label='Euler Summer')\n",
    "    ax.scatter(Eul_djf.isel(regs=np.arange(0,16,1)).regs+bwidth, Eul_djf.isel(regs=np.arange(0,16,1)), color = col_djf2, marker=sym_eul, s=msize, label='Euler Winter')\n",
    "    ax.legend(bbox_to_anchor=(1, 1), loc='upper left', fontsize=fs)\n",
    "    ax.set_xlim([0,17])\n",
    "    ax.plot([0,17],[0,0], color='k', linewidth=0.5)\n",
    "    ax.tick_params(axis='both', labelsize=fs)\n",
    "    ax.set_xticks(np.arange(1,17))\n",
    "\n"
   ]
  },
  {
   "cell_type": "code",
   "execution_count": 34,
   "metadata": {},
   "outputs": [
    {
     "name": "stderr",
     "output_type": "stream",
     "text": [
      "/var/folders/bd/ct5yrfy51z7bdshm97c2w2nc0000gp/T/ipykernel_23568/434447618.py:62: UserWarning: The input coordinates to pcolor are interpreted as cell centers, but are not monotonically increasing or decreasing. This may lead to incorrectly calculated cell edges, in which case, please supply explicit cell edges to pcolor.\n",
      "  map = plt.pcolor(var.nav_lon, var.nav_lat,\n",
      "/var/folders/bd/ct5yrfy51z7bdshm97c2w2nc0000gp/T/ipykernel_23568/434447618.py:62: UserWarning: The input coordinates to pcolor are interpreted as cell centers, but are not monotonically increasing or decreasing. This may lead to incorrectly calculated cell edges, in which case, please supply explicit cell edges to pcolor.\n",
      "  map = plt.pcolor(var.nav_lon, var.nav_lat,\n"
     ]
    },
    {
     "ename": "KeyboardInterrupt",
     "evalue": "",
     "output_type": "error",
     "traceback": [
      "\u001b[0;31m---------------------------------------------------------------------------\u001b[0m",
      "\u001b[0;31mKeyboardInterrupt\u001b[0m                         Traceback (most recent call last)",
      "Cell \u001b[0;32mIn[34], line 50\u001b[0m\n\u001b[1;32m     48\u001b[0m var1 \u001b[38;5;241m=\u001b[39m speed_tsave_ds\u001b[38;5;241m.\u001b[39msel(season\u001b[38;5;241m=\u001b[39m\u001b[38;5;124m'\u001b[39m\u001b[38;5;124mDJF\u001b[39m\u001b[38;5;124m'\u001b[39m)\u001b[38;5;241m.\u001b[39misel(z\u001b[38;5;241m=\u001b[39mzlev)\u001b[38;5;241m.\u001b[39mEcProjEcSc\n\u001b[1;32m     49\u001b[0m var2 \u001b[38;5;241m=\u001b[39m speed_tsave_ds\u001b[38;5;241m.\u001b[39msel(season\u001b[38;5;241m=\u001b[39m\u001b[38;5;124m'\u001b[39m\u001b[38;5;124mDJF\u001b[39m\u001b[38;5;124m'\u001b[39m)\u001b[38;5;241m.\u001b[39misel(z\u001b[38;5;241m=\u001b[39mzlev)\u001b[38;5;241m.\u001b[39mEnc\n\u001b[0;32m---> 50\u001b[0m \u001b[38;5;28mmap\u001b[39m, Eul_djf \u001b[38;5;241m=\u001b[39m \u001b[43mbuild_subplot_pcolorregspeeddiff\u001b[49m\u001b[43m(\u001b[49m\u001b[43mvar1\u001b[49m\u001b[43m,\u001b[49m\u001b[43m \u001b[49m\u001b[43mvar2\u001b[49m\u001b[43m,\u001b[49m\u001b[43m \u001b[49m\u001b[43mcolm\u001b[49m\u001b[43m,\u001b[49m\u001b[43m \u001b[49m\u001b[43mnorm\u001b[49m\u001b[43m,\u001b[49m\u001b[43m \u001b[49m\u001b[43myticklabel\u001b[49m\u001b[38;5;241;43m=\u001b[39;49m\u001b[38;5;28;43;01mFalse\u001b[39;49;00m\u001b[43m)\u001b[49m\n\u001b[1;32m     51\u001b[0m at \u001b[38;5;241m=\u001b[39m AnchoredText(\u001b[38;5;124m'\u001b[39m\u001b[38;5;124mi)\u001b[39m\u001b[38;5;124m'\u001b[39m, prop\u001b[38;5;241m=\u001b[39m\u001b[38;5;28mdict\u001b[39m(size\u001b[38;5;241m=\u001b[39mfs), frameon\u001b[38;5;241m=\u001b[39m\u001b[38;5;28;01mTrue\u001b[39;00m, loc\u001b[38;5;241m=\u001b[39m\u001b[38;5;124m'\u001b[39m\u001b[38;5;124mupper left\u001b[39m\u001b[38;5;124m'\u001b[39m)\n\u001b[1;32m     52\u001b[0m at\u001b[38;5;241m.\u001b[39mpatch\u001b[38;5;241m.\u001b[39mset_linewidth(lw_box)\n",
      "Cell \u001b[0;32mIn[32], line 61\u001b[0m, in \u001b[0;36mbuild_subplot_pcolorregspeeddiff\u001b[0;34m(var1, var2, colm, norm, xticklabel, yticklabel, perc)\u001b[0m\n\u001b[1;32m     59\u001b[0m     var_tmp \u001b[38;5;241m=\u001b[39m ((var1 \u001b[38;5;241m-\u001b[39m var2)\u001b[38;5;241m/\u001b[39mvar2)\u001b[38;5;241m*\u001b[39m\u001b[38;5;241m100\u001b[39m\n\u001b[1;32m     60\u001b[0m     mean \u001b[38;5;241m=\u001b[39m var_tmp\u001b[38;5;241m.\u001b[39mmean(dim\u001b[38;5;241m=\u001b[39m{\u001b[38;5;124m'\u001b[39m\u001b[38;5;124mx\u001b[39m\u001b[38;5;124m'\u001b[39m,\u001b[38;5;124m'\u001b[39m\u001b[38;5;124my\u001b[39m\u001b[38;5;124m'\u001b[39m})\n\u001b[0;32m---> 61\u001b[0m var, var_slim \u001b[38;5;241m=\u001b[39m \u001b[43mcalc_reg_ave\u001b[49m\u001b[43m(\u001b[49m\u001b[43mvar_tmp\u001b[49m\u001b[43m)\u001b[49m\n\u001b[1;32m     62\u001b[0m \u001b[38;5;28mmap\u001b[39m \u001b[38;5;241m=\u001b[39m plt\u001b[38;5;241m.\u001b[39mpcolor(var\u001b[38;5;241m.\u001b[39mnav_lon, var\u001b[38;5;241m.\u001b[39mnav_lat,\n\u001b[1;32m     63\u001b[0m                  var,\n\u001b[1;32m     64\u001b[0m                  cmap\u001b[38;5;241m=\u001b[39mcolm, norm\u001b[38;5;241m=\u001b[39mnorm,\n\u001b[1;32m     65\u001b[0m                  shading\u001b[38;5;241m=\u001b[39m\u001b[38;5;124m'\u001b[39m\u001b[38;5;124mnearest\u001b[39m\u001b[38;5;124m'\u001b[39m)\n\u001b[1;32m     66\u001b[0m plot_bathy()\n",
      "Cell \u001b[0;32mIn[32], line 19\u001b[0m, in \u001b[0;36mcalc_reg_ave\u001b[0;34m(var)\u001b[0m\n\u001b[1;32m     17\u001b[0m regmask \u001b[38;5;241m=\u001b[39m regionmask\u001b[38;5;241m.\u001b[39mregs\u001b[38;5;241m.\u001b[39massign_coords({\u001b[38;5;124m'\u001b[39m\u001b[38;5;124mnav_lon\u001b[39m\u001b[38;5;124m'\u001b[39m:var\u001b[38;5;241m.\u001b[39mnav_lon, \u001b[38;5;124m'\u001b[39m\u001b[38;5;124mnav_lat\u001b[39m\u001b[38;5;124m'\u001b[39m:var\u001b[38;5;241m.\u001b[39mnav_lat})\n\u001b[1;32m     18\u001b[0m tmp \u001b[38;5;241m=\u001b[39m var\u001b[38;5;241m.\u001b[39mwhere(regionmask\u001b[38;5;241m.\u001b[39mregs \u001b[38;5;241m==\u001b[39m reg)\u001b[38;5;241m.\u001b[39mwhere(Mask_MedSea \u001b[38;5;241m==\u001b[39m \u001b[38;5;241m1\u001b[39m)\u001b[38;5;241m.\u001b[39mmean(dim\u001b[38;5;241m=\u001b[39m[\u001b[38;5;124m'\u001b[39m\u001b[38;5;124mx\u001b[39m\u001b[38;5;124m'\u001b[39m,\u001b[38;5;124m'\u001b[39m\u001b[38;5;124my\u001b[39m\u001b[38;5;124m'\u001b[39m], skipna\u001b[38;5;241m=\u001b[39m\u001b[38;5;28;01mTrue\u001b[39;00m)\n\u001b[0;32m---> 19\u001b[0m tmp2 \u001b[38;5;241m=\u001b[39m (\u001b[43mvar\u001b[49m\u001b[38;5;241;43m.\u001b[39;49m\u001b[43mwhere\u001b[49m\u001b[43m(\u001b[49m\u001b[43mregionmask\u001b[49m\u001b[38;5;241;43m.\u001b[39;49m\u001b[43mregs\u001b[49m\u001b[43m \u001b[49m\u001b[38;5;241;43m==\u001b[39;49m\u001b[43m \u001b[49m\u001b[43mreg\u001b[49m\u001b[43m)\u001b[49m\u001b[38;5;241;43m.\u001b[39;49m\u001b[43mwhere\u001b[49m\u001b[43m(\u001b[49m\u001b[43mMask_MedSea\u001b[49m\u001b[43m \u001b[49m\u001b[38;5;241;43m==\u001b[39;49m\u001b[43m \u001b[49m\u001b[38;5;241;43m1\u001b[39;49m\u001b[43m)\u001b[49m\u001b[38;5;241m*\u001b[39m\u001b[38;5;241m0\u001b[39m \u001b[38;5;241m+\u001b[39m tmp)\u001b[38;5;241m.\u001b[39mfillna(\u001b[38;5;241m0\u001b[39m)\n\u001b[1;32m     20\u001b[0m var_rave \u001b[38;5;241m=\u001b[39m var_rave \u001b[38;5;241m+\u001b[39m tmp2\n\u001b[1;32m     21\u001b[0m var_rave_slim_list\u001b[38;5;241m.\u001b[39mappend(tmp)\n",
      "File \u001b[0;32m~/opt/miniconda3/envs/testimm/lib/python3.10/site-packages/xarray/core/common.py:1134\u001b[0m, in \u001b[0;36mDataWithCoords.where\u001b[0;34m(self, cond, other, drop)\u001b[0m\n\u001b[1;32m   1131\u001b[0m     \u001b[38;5;28mself\u001b[39m \u001b[38;5;241m=\u001b[39m \u001b[38;5;28mself\u001b[39m\u001b[38;5;241m.\u001b[39misel(\u001b[38;5;241m*\u001b[39m\u001b[38;5;241m*\u001b[39mindexers)\n\u001b[1;32m   1132\u001b[0m     cond \u001b[38;5;241m=\u001b[39m cond\u001b[38;5;241m.\u001b[39misel(\u001b[38;5;241m*\u001b[39m\u001b[38;5;241m*\u001b[39mindexers)\n\u001b[0;32m-> 1134\u001b[0m \u001b[38;5;28;01mreturn\u001b[39;00m \u001b[43mops\u001b[49m\u001b[38;5;241;43m.\u001b[39;49m\u001b[43mwhere_method\u001b[49m\u001b[43m(\u001b[49m\u001b[38;5;28;43mself\u001b[39;49m\u001b[43m,\u001b[49m\u001b[43m \u001b[49m\u001b[43mcond\u001b[49m\u001b[43m,\u001b[49m\u001b[43m \u001b[49m\u001b[43mother\u001b[49m\u001b[43m)\u001b[49m\n",
      "File \u001b[0;32m~/opt/miniconda3/envs/testimm/lib/python3.10/site-packages/xarray/core/ops.py:177\u001b[0m, in \u001b[0;36mwhere_method\u001b[0;34m(self, cond, other)\u001b[0m\n\u001b[1;32m    175\u001b[0m \u001b[38;5;66;03m# alignment for three arguments is complicated, so don't support it yet\u001b[39;00m\n\u001b[1;32m    176\u001b[0m join \u001b[38;5;241m=\u001b[39m \u001b[38;5;124m\"\u001b[39m\u001b[38;5;124minner\u001b[39m\u001b[38;5;124m\"\u001b[39m \u001b[38;5;28;01mif\u001b[39;00m other \u001b[38;5;129;01mis\u001b[39;00m dtypes\u001b[38;5;241m.\u001b[39mNA \u001b[38;5;28;01melse\u001b[39;00m \u001b[38;5;124m\"\u001b[39m\u001b[38;5;124mexact\u001b[39m\u001b[38;5;124m\"\u001b[39m\n\u001b[0;32m--> 177\u001b[0m \u001b[38;5;28;01mreturn\u001b[39;00m \u001b[43mapply_ufunc\u001b[49m\u001b[43m(\u001b[49m\n\u001b[1;32m    178\u001b[0m \u001b[43m    \u001b[49m\u001b[43mduck_array_ops\u001b[49m\u001b[38;5;241;43m.\u001b[39;49m\u001b[43mwhere_method\u001b[49m\u001b[43m,\u001b[49m\n\u001b[1;32m    179\u001b[0m \u001b[43m    \u001b[49m\u001b[38;5;28;43mself\u001b[39;49m\u001b[43m,\u001b[49m\n\u001b[1;32m    180\u001b[0m \u001b[43m    \u001b[49m\u001b[43mcond\u001b[49m\u001b[43m,\u001b[49m\n\u001b[1;32m    181\u001b[0m \u001b[43m    \u001b[49m\u001b[43mother\u001b[49m\u001b[43m,\u001b[49m\n\u001b[1;32m    182\u001b[0m \u001b[43m    \u001b[49m\u001b[43mjoin\u001b[49m\u001b[38;5;241;43m=\u001b[39;49m\u001b[43mjoin\u001b[49m\u001b[43m,\u001b[49m\n\u001b[1;32m    183\u001b[0m \u001b[43m    \u001b[49m\u001b[43mdataset_join\u001b[49m\u001b[38;5;241;43m=\u001b[39;49m\u001b[43mjoin\u001b[49m\u001b[43m,\u001b[49m\n\u001b[1;32m    184\u001b[0m \u001b[43m    \u001b[49m\u001b[43mdask\u001b[49m\u001b[38;5;241;43m=\u001b[39;49m\u001b[38;5;124;43m\"\u001b[39;49m\u001b[38;5;124;43mallowed\u001b[39;49m\u001b[38;5;124;43m\"\u001b[39;49m\u001b[43m,\u001b[49m\n\u001b[1;32m    185\u001b[0m \u001b[43m    \u001b[49m\u001b[43mkeep_attrs\u001b[49m\u001b[38;5;241;43m=\u001b[39;49m\u001b[38;5;28;43;01mTrue\u001b[39;49;00m\u001b[43m,\u001b[49m\n\u001b[1;32m    186\u001b[0m \u001b[43m\u001b[49m\u001b[43m)\u001b[49m\n",
      "File \u001b[0;32m~/opt/miniconda3/envs/testimm/lib/python3.10/site-packages/xarray/core/computation.py:1204\u001b[0m, in \u001b[0;36mapply_ufunc\u001b[0;34m(func, input_core_dims, output_core_dims, exclude_dims, vectorize, join, dataset_join, dataset_fill_value, keep_attrs, kwargs, dask, output_dtypes, output_sizes, meta, dask_gufunc_kwargs, *args)\u001b[0m\n\u001b[1;32m   1202\u001b[0m \u001b[38;5;66;03m# feed DataArray apply_variable_ufunc through apply_dataarray_vfunc\u001b[39;00m\n\u001b[1;32m   1203\u001b[0m \u001b[38;5;28;01melif\u001b[39;00m \u001b[38;5;28many\u001b[39m(\u001b[38;5;28misinstance\u001b[39m(a, DataArray) \u001b[38;5;28;01mfor\u001b[39;00m a \u001b[38;5;129;01min\u001b[39;00m args):\n\u001b[0;32m-> 1204\u001b[0m     \u001b[38;5;28;01mreturn\u001b[39;00m \u001b[43mapply_dataarray_vfunc\u001b[49m\u001b[43m(\u001b[49m\n\u001b[1;32m   1205\u001b[0m \u001b[43m        \u001b[49m\u001b[43mvariables_vfunc\u001b[49m\u001b[43m,\u001b[49m\n\u001b[1;32m   1206\u001b[0m \u001b[43m        \u001b[49m\u001b[38;5;241;43m*\u001b[39;49m\u001b[43margs\u001b[49m\u001b[43m,\u001b[49m\n\u001b[1;32m   1207\u001b[0m \u001b[43m        \u001b[49m\u001b[43msignature\u001b[49m\u001b[38;5;241;43m=\u001b[39;49m\u001b[43msignature\u001b[49m\u001b[43m,\u001b[49m\n\u001b[1;32m   1208\u001b[0m \u001b[43m        \u001b[49m\u001b[43mjoin\u001b[49m\u001b[38;5;241;43m=\u001b[39;49m\u001b[43mjoin\u001b[49m\u001b[43m,\u001b[49m\n\u001b[1;32m   1209\u001b[0m \u001b[43m        \u001b[49m\u001b[43mexclude_dims\u001b[49m\u001b[38;5;241;43m=\u001b[39;49m\u001b[43mexclude_dims\u001b[49m\u001b[43m,\u001b[49m\n\u001b[1;32m   1210\u001b[0m \u001b[43m        \u001b[49m\u001b[43mkeep_attrs\u001b[49m\u001b[38;5;241;43m=\u001b[39;49m\u001b[43mkeep_attrs\u001b[49m\u001b[43m,\u001b[49m\n\u001b[1;32m   1211\u001b[0m \u001b[43m    \u001b[49m\u001b[43m)\u001b[49m\n\u001b[1;32m   1212\u001b[0m \u001b[38;5;66;03m# feed Variables directly through apply_variable_ufunc\u001b[39;00m\n\u001b[1;32m   1213\u001b[0m \u001b[38;5;28;01melif\u001b[39;00m \u001b[38;5;28many\u001b[39m(\u001b[38;5;28misinstance\u001b[39m(a, Variable) \u001b[38;5;28;01mfor\u001b[39;00m a \u001b[38;5;129;01min\u001b[39;00m args):\n",
      "File \u001b[0;32m~/opt/miniconda3/envs/testimm/lib/python3.10/site-packages/xarray/core/computation.py:310\u001b[0m, in \u001b[0;36mapply_dataarray_vfunc\u001b[0;34m(func, signature, join, exclude_dims, keep_attrs, *args)\u001b[0m\n\u001b[1;32m    308\u001b[0m     first_obj \u001b[38;5;241m=\u001b[39m _first_of_type(args, DataArray)\n\u001b[1;32m    309\u001b[0m     name \u001b[38;5;241m=\u001b[39m first_obj\u001b[38;5;241m.\u001b[39mname\n\u001b[0;32m--> 310\u001b[0m result_coords, result_indexes \u001b[38;5;241m=\u001b[39m \u001b[43mbuild_output_coords_and_indexes\u001b[49m\u001b[43m(\u001b[49m\n\u001b[1;32m    311\u001b[0m \u001b[43m    \u001b[49m\u001b[43margs\u001b[49m\u001b[43m,\u001b[49m\u001b[43m \u001b[49m\u001b[43msignature\u001b[49m\u001b[43m,\u001b[49m\u001b[43m \u001b[49m\u001b[43mexclude_dims\u001b[49m\u001b[43m,\u001b[49m\u001b[43m \u001b[49m\u001b[43mcombine_attrs\u001b[49m\u001b[38;5;241;43m=\u001b[39;49m\u001b[43mkeep_attrs\u001b[49m\n\u001b[1;32m    312\u001b[0m \u001b[43m\u001b[49m\u001b[43m)\u001b[49m\n\u001b[1;32m    314\u001b[0m data_vars \u001b[38;5;241m=\u001b[39m [\u001b[38;5;28mgetattr\u001b[39m(a, \u001b[38;5;124m\"\u001b[39m\u001b[38;5;124mvariable\u001b[39m\u001b[38;5;124m\"\u001b[39m, a) \u001b[38;5;28;01mfor\u001b[39;00m a \u001b[38;5;129;01min\u001b[39;00m args]\n\u001b[1;32m    315\u001b[0m result_var \u001b[38;5;241m=\u001b[39m func(\u001b[38;5;241m*\u001b[39mdata_vars)\n",
      "File \u001b[0;32m~/opt/miniconda3/envs/testimm/lib/python3.10/site-packages/xarray/core/computation.py:261\u001b[0m, in \u001b[0;36mbuild_output_coords_and_indexes\u001b[0;34m(args, signature, exclude_dims, combine_attrs)\u001b[0m\n\u001b[1;32m    259\u001b[0m     merged_indexes \u001b[38;5;241m=\u001b[39m \u001b[38;5;28mdict\u001b[39m(unpacked_coords\u001b[38;5;241m.\u001b[39mxindexes)\n\u001b[1;32m    260\u001b[0m \u001b[38;5;28;01melse\u001b[39;00m:\n\u001b[0;32m--> 261\u001b[0m     merged_vars, merged_indexes \u001b[38;5;241m=\u001b[39m \u001b[43mmerge_coordinates_without_align\u001b[49m\u001b[43m(\u001b[49m\n\u001b[1;32m    262\u001b[0m \u001b[43m        \u001b[49m\u001b[43mcoords_list\u001b[49m\u001b[43m,\u001b[49m\u001b[43m \u001b[49m\u001b[43mexclude_dims\u001b[49m\u001b[38;5;241;43m=\u001b[39;49m\u001b[43mexclude_dims\u001b[49m\u001b[43m,\u001b[49m\u001b[43m \u001b[49m\u001b[43mcombine_attrs\u001b[49m\u001b[38;5;241;43m=\u001b[39;49m\u001b[43mcombine_attrs\u001b[49m\n\u001b[1;32m    263\u001b[0m \u001b[43m    \u001b[49m\u001b[43m)\u001b[49m\n\u001b[1;32m    265\u001b[0m output_coords \u001b[38;5;241m=\u001b[39m []\n\u001b[1;32m    266\u001b[0m output_indexes \u001b[38;5;241m=\u001b[39m []\n",
      "File \u001b[0;32m~/opt/miniconda3/envs/testimm/lib/python3.10/site-packages/xarray/core/merge.py:420\u001b[0m, in \u001b[0;36mmerge_coordinates_without_align\u001b[0;34m(objects, prioritized, exclude_dims, combine_attrs)\u001b[0m\n\u001b[1;32m    416\u001b[0m     filtered \u001b[38;5;241m=\u001b[39m collected\n\u001b[1;32m    418\u001b[0m \u001b[38;5;66;03m# TODO: indexes should probably be filtered in collected elements\u001b[39;00m\n\u001b[1;32m    419\u001b[0m \u001b[38;5;66;03m# before merging them\u001b[39;00m\n\u001b[0;32m--> 420\u001b[0m merged_coords, merged_indexes \u001b[38;5;241m=\u001b[39m \u001b[43mmerge_collected\u001b[49m\u001b[43m(\u001b[49m\n\u001b[1;32m    421\u001b[0m \u001b[43m    \u001b[49m\u001b[43mfiltered\u001b[49m\u001b[43m,\u001b[49m\u001b[43m \u001b[49m\u001b[43mprioritized\u001b[49m\u001b[43m,\u001b[49m\u001b[43m \u001b[49m\u001b[43mcombine_attrs\u001b[49m\u001b[38;5;241;43m=\u001b[39;49m\u001b[43mcombine_attrs\u001b[49m\n\u001b[1;32m    422\u001b[0m \u001b[43m\u001b[49m\u001b[43m)\u001b[49m\n\u001b[1;32m    423\u001b[0m merged_indexes \u001b[38;5;241m=\u001b[39m filter_indexes_from_coords(merged_indexes, \u001b[38;5;28mset\u001b[39m(merged_coords))\n\u001b[1;32m    425\u001b[0m \u001b[38;5;28;01mreturn\u001b[39;00m merged_coords, merged_indexes\n",
      "File \u001b[0;32m~/opt/miniconda3/envs/testimm/lib/python3.10/site-packages/xarray/core/merge.py:302\u001b[0m, in \u001b[0;36mmerge_collected\u001b[0;34m(grouped, prioritized, compat, combine_attrs, equals)\u001b[0m\n\u001b[1;32m    300\u001b[0m variables \u001b[38;5;241m=\u001b[39m [variable \u001b[38;5;28;01mfor\u001b[39;00m variable, _ \u001b[38;5;129;01min\u001b[39;00m elements_list]\n\u001b[1;32m    301\u001b[0m \u001b[38;5;28;01mtry\u001b[39;00m:\n\u001b[0;32m--> 302\u001b[0m     merged_vars[name] \u001b[38;5;241m=\u001b[39m \u001b[43munique_variable\u001b[49m\u001b[43m(\u001b[49m\n\u001b[1;32m    303\u001b[0m \u001b[43m        \u001b[49m\u001b[43mname\u001b[49m\u001b[43m,\u001b[49m\u001b[43m \u001b[49m\u001b[43mvariables\u001b[49m\u001b[43m,\u001b[49m\u001b[43m \u001b[49m\u001b[43mcompat\u001b[49m\u001b[43m,\u001b[49m\u001b[43m \u001b[49m\u001b[43mequals\u001b[49m\u001b[38;5;241;43m.\u001b[39;49m\u001b[43mget\u001b[49m\u001b[43m(\u001b[49m\u001b[43mname\u001b[49m\u001b[43m,\u001b[49m\u001b[43m \u001b[49m\u001b[38;5;28;43;01mNone\u001b[39;49;00m\u001b[43m)\u001b[49m\n\u001b[1;32m    304\u001b[0m \u001b[43m    \u001b[49m\u001b[43m)\u001b[49m\n\u001b[1;32m    305\u001b[0m \u001b[38;5;28;01mexcept\u001b[39;00m MergeError:\n\u001b[1;32m    306\u001b[0m     \u001b[38;5;28;01mif\u001b[39;00m compat \u001b[38;5;241m!=\u001b[39m \u001b[38;5;124m\"\u001b[39m\u001b[38;5;124mminimal\u001b[39m\u001b[38;5;124m\"\u001b[39m:\n\u001b[1;32m    307\u001b[0m         \u001b[38;5;66;03m# we need more than \"minimal\" compatibility (for which\u001b[39;00m\n\u001b[1;32m    308\u001b[0m         \u001b[38;5;66;03m# we drop conflicting coordinates)\u001b[39;00m\n",
      "File \u001b[0;32m~/opt/miniconda3/envs/testimm/lib/python3.10/site-packages/xarray/core/merge.py:151\u001b[0m, in \u001b[0;36munique_variable\u001b[0;34m(name, variables, compat, equals)\u001b[0m\n\u001b[1;32m    149\u001b[0m out \u001b[38;5;241m=\u001b[39m out\u001b[38;5;241m.\u001b[39mcompute()\n\u001b[1;32m    150\u001b[0m \u001b[38;5;28;01mfor\u001b[39;00m var \u001b[38;5;129;01min\u001b[39;00m variables[\u001b[38;5;241m1\u001b[39m:]:\n\u001b[0;32m--> 151\u001b[0m     equals \u001b[38;5;241m=\u001b[39m \u001b[38;5;28;43mgetattr\u001b[39;49m\u001b[43m(\u001b[49m\u001b[43mout\u001b[49m\u001b[43m,\u001b[49m\u001b[43m \u001b[49m\u001b[43mcompat\u001b[49m\u001b[43m)\u001b[49m\u001b[43m(\u001b[49m\u001b[43mvar\u001b[49m\u001b[43m)\u001b[49m\n\u001b[1;32m    152\u001b[0m     \u001b[38;5;28;01mif\u001b[39;00m \u001b[38;5;129;01mnot\u001b[39;00m equals:\n\u001b[1;32m    153\u001b[0m         \u001b[38;5;28;01mbreak\u001b[39;00m\n",
      "File \u001b[0;32m~/opt/miniconda3/envs/testimm/lib/python3.10/site-packages/xarray/core/variable.py:2100\u001b[0m, in \u001b[0;36mVariable.broadcast_equals\u001b[0;34m(self, other, equiv)\u001b[0m\n\u001b[1;32m   2098\u001b[0m \u001b[38;5;28;01mexcept\u001b[39;00m (\u001b[38;5;167;01mValueError\u001b[39;00m, \u001b[38;5;167;01mAttributeError\u001b[39;00m):\n\u001b[1;32m   2099\u001b[0m     \u001b[38;5;28;01mreturn\u001b[39;00m \u001b[38;5;28;01mFalse\u001b[39;00m\n\u001b[0;32m-> 2100\u001b[0m \u001b[38;5;28;01mreturn\u001b[39;00m \u001b[38;5;28;43mself\u001b[39;49m\u001b[38;5;241;43m.\u001b[39;49m\u001b[43mequals\u001b[49m\u001b[43m(\u001b[49m\u001b[43mother\u001b[49m\u001b[43m,\u001b[49m\u001b[43m \u001b[49m\u001b[43mequiv\u001b[49m\u001b[38;5;241;43m=\u001b[39;49m\u001b[43mequiv\u001b[49m\u001b[43m)\u001b[49m\n",
      "File \u001b[0;32m~/opt/miniconda3/envs/testimm/lib/python3.10/site-packages/xarray/core/variable.py:2084\u001b[0m, in \u001b[0;36mVariable.equals\u001b[0;34m(self, other, equiv)\u001b[0m\n\u001b[1;32m   2081\u001b[0m other \u001b[38;5;241m=\u001b[39m \u001b[38;5;28mgetattr\u001b[39m(other, \u001b[38;5;124m\"\u001b[39m\u001b[38;5;124mvariable\u001b[39m\u001b[38;5;124m\"\u001b[39m, other)\n\u001b[1;32m   2082\u001b[0m \u001b[38;5;28;01mtry\u001b[39;00m:\n\u001b[1;32m   2083\u001b[0m     \u001b[38;5;28;01mreturn\u001b[39;00m \u001b[38;5;28mself\u001b[39m\u001b[38;5;241m.\u001b[39mdims \u001b[38;5;241m==\u001b[39m other\u001b[38;5;241m.\u001b[39mdims \u001b[38;5;129;01mand\u001b[39;00m (\n\u001b[0;32m-> 2084\u001b[0m         \u001b[38;5;28mself\u001b[39m\u001b[38;5;241m.\u001b[39m_data \u001b[38;5;129;01mis\u001b[39;00m other\u001b[38;5;241m.\u001b[39m_data \u001b[38;5;129;01mor\u001b[39;00m \u001b[43mequiv\u001b[49m\u001b[43m(\u001b[49m\u001b[38;5;28;43mself\u001b[39;49m\u001b[38;5;241;43m.\u001b[39;49m\u001b[43mdata\u001b[49m\u001b[43m,\u001b[49m\u001b[43m \u001b[49m\u001b[43mother\u001b[49m\u001b[38;5;241;43m.\u001b[39;49m\u001b[43mdata\u001b[49m\u001b[43m)\u001b[49m\n\u001b[1;32m   2085\u001b[0m     )\n\u001b[1;32m   2086\u001b[0m \u001b[38;5;28;01mexcept\u001b[39;00m (\u001b[38;5;167;01mTypeError\u001b[39;00m, \u001b[38;5;167;01mAttributeError\u001b[39;00m):\n\u001b[1;32m   2087\u001b[0m     \u001b[38;5;28;01mreturn\u001b[39;00m \u001b[38;5;28;01mFalse\u001b[39;00m\n",
      "File \u001b[0;32m~/opt/miniconda3/envs/testimm/lib/python3.10/site-packages/xarray/core/duck_array_ops.py:257\u001b[0m, in \u001b[0;36marray_equiv\u001b[0;34m(arr1, arr2)\u001b[0m\n\u001b[1;32m    255\u001b[0m         warnings\u001b[38;5;241m.\u001b[39mfilterwarnings(\u001b[38;5;124m\"\u001b[39m\u001b[38;5;124mignore\u001b[39m\u001b[38;5;124m\"\u001b[39m, \u001b[38;5;124m\"\u001b[39m\u001b[38;5;124mIn the future, \u001b[39m\u001b[38;5;124m'\u001b[39m\u001b[38;5;124mNAT == x\u001b[39m\u001b[38;5;124m'\u001b[39m\u001b[38;5;124m\"\u001b[39m)\n\u001b[1;32m    256\u001b[0m         flag_array \u001b[38;5;241m=\u001b[39m (arr1 \u001b[38;5;241m==\u001b[39m arr2) \u001b[38;5;241m|\u001b[39m (isnull(arr1) \u001b[38;5;241m&\u001b[39m isnull(arr2))\n\u001b[0;32m--> 257\u001b[0m         \u001b[38;5;28;01mreturn\u001b[39;00m \u001b[38;5;28;43mbool\u001b[39;49m\u001b[43m(\u001b[49m\u001b[43mflag_array\u001b[49m\u001b[38;5;241;43m.\u001b[39;49m\u001b[43mall\u001b[49m\u001b[43m(\u001b[49m\u001b[43m)\u001b[49m\u001b[43m)\u001b[49m\n\u001b[1;32m    258\u001b[0m \u001b[38;5;28;01melse\u001b[39;00m:\n\u001b[1;32m    259\u001b[0m     \u001b[38;5;28;01mreturn\u001b[39;00m lazy_equiv\n",
      "File \u001b[0;32m~/opt/miniconda3/envs/testimm/lib/python3.10/site-packages/dask/array/core.py:1850\u001b[0m, in \u001b[0;36mArray.__bool__\u001b[0;34m(self)\u001b[0m\n\u001b[1;32m   1845\u001b[0m     \u001b[38;5;28;01mraise\u001b[39;00m \u001b[38;5;167;01mValueError\u001b[39;00m(\n\u001b[1;32m   1846\u001b[0m         \u001b[38;5;124mf\u001b[39m\u001b[38;5;124m\"\u001b[39m\u001b[38;5;124mThe truth value of a \u001b[39m\u001b[38;5;132;01m{\u001b[39;00m\u001b[38;5;28mself\u001b[39m\u001b[38;5;241m.\u001b[39m\u001b[38;5;18m__class__\u001b[39m\u001b[38;5;241m.\u001b[39m\u001b[38;5;18m__name__\u001b[39m\u001b[38;5;132;01m}\u001b[39;00m\u001b[38;5;124m is ambiguous. \u001b[39m\u001b[38;5;124m\"\u001b[39m\n\u001b[1;32m   1847\u001b[0m         \u001b[38;5;124m\"\u001b[39m\u001b[38;5;124mUse a.any() or a.all().\u001b[39m\u001b[38;5;124m\"\u001b[39m\n\u001b[1;32m   1848\u001b[0m     )\n\u001b[1;32m   1849\u001b[0m \u001b[38;5;28;01melse\u001b[39;00m:\n\u001b[0;32m-> 1850\u001b[0m     \u001b[38;5;28;01mreturn\u001b[39;00m \u001b[38;5;28mbool\u001b[39m(\u001b[38;5;28;43mself\u001b[39;49m\u001b[38;5;241;43m.\u001b[39;49m\u001b[43mcompute\u001b[49m\u001b[43m(\u001b[49m\u001b[43m)\u001b[49m)\n",
      "File \u001b[0;32m~/opt/miniconda3/envs/testimm/lib/python3.10/site-packages/dask/base.py:315\u001b[0m, in \u001b[0;36mDaskMethodsMixin.compute\u001b[0;34m(self, **kwargs)\u001b[0m\n\u001b[1;32m    291\u001b[0m \u001b[38;5;28;01mdef\u001b[39;00m \u001b[38;5;21mcompute\u001b[39m(\u001b[38;5;28mself\u001b[39m, \u001b[38;5;241m*\u001b[39m\u001b[38;5;241m*\u001b[39mkwargs):\n\u001b[1;32m    292\u001b[0m \u001b[38;5;250m    \u001b[39m\u001b[38;5;124;03m\"\"\"Compute this dask collection\u001b[39;00m\n\u001b[1;32m    293\u001b[0m \n\u001b[1;32m    294\u001b[0m \u001b[38;5;124;03m    This turns a lazy Dask collection into its in-memory equivalent.\u001b[39;00m\n\u001b[0;32m   (...)\u001b[0m\n\u001b[1;32m    313\u001b[0m \u001b[38;5;124;03m    dask.base.compute\u001b[39;00m\n\u001b[1;32m    314\u001b[0m \u001b[38;5;124;03m    \"\"\"\u001b[39;00m\n\u001b[0;32m--> 315\u001b[0m     (result,) \u001b[38;5;241m=\u001b[39m \u001b[43mcompute\u001b[49m\u001b[43m(\u001b[49m\u001b[38;5;28;43mself\u001b[39;49m\u001b[43m,\u001b[49m\u001b[43m \u001b[49m\u001b[43mtraverse\u001b[49m\u001b[38;5;241;43m=\u001b[39;49m\u001b[38;5;28;43;01mFalse\u001b[39;49;00m\u001b[43m,\u001b[49m\u001b[43m \u001b[49m\u001b[38;5;241;43m*\u001b[39;49m\u001b[38;5;241;43m*\u001b[39;49m\u001b[43mkwargs\u001b[49m\u001b[43m)\u001b[49m\n\u001b[1;32m    316\u001b[0m     \u001b[38;5;28;01mreturn\u001b[39;00m result\n",
      "File \u001b[0;32m~/opt/miniconda3/envs/testimm/lib/python3.10/site-packages/dask/base.py:600\u001b[0m, in \u001b[0;36mcompute\u001b[0;34m(traverse, optimize_graph, scheduler, get, *args, **kwargs)\u001b[0m\n\u001b[1;32m    597\u001b[0m     keys\u001b[38;5;241m.\u001b[39mappend(x\u001b[38;5;241m.\u001b[39m__dask_keys__())\n\u001b[1;32m    598\u001b[0m     postcomputes\u001b[38;5;241m.\u001b[39mappend(x\u001b[38;5;241m.\u001b[39m__dask_postcompute__())\n\u001b[0;32m--> 600\u001b[0m results \u001b[38;5;241m=\u001b[39m \u001b[43mschedule\u001b[49m\u001b[43m(\u001b[49m\u001b[43mdsk\u001b[49m\u001b[43m,\u001b[49m\u001b[43m \u001b[49m\u001b[43mkeys\u001b[49m\u001b[43m,\u001b[49m\u001b[43m \u001b[49m\u001b[38;5;241;43m*\u001b[39;49m\u001b[38;5;241;43m*\u001b[39;49m\u001b[43mkwargs\u001b[49m\u001b[43m)\u001b[49m\n\u001b[1;32m    601\u001b[0m \u001b[38;5;28;01mreturn\u001b[39;00m repack([f(r, \u001b[38;5;241m*\u001b[39ma) \u001b[38;5;28;01mfor\u001b[39;00m r, (f, a) \u001b[38;5;129;01min\u001b[39;00m \u001b[38;5;28mzip\u001b[39m(results, postcomputes)])\n",
      "File \u001b[0;32m~/opt/miniconda3/envs/testimm/lib/python3.10/site-packages/dask/threaded.py:89\u001b[0m, in \u001b[0;36mget\u001b[0;34m(dsk, keys, cache, num_workers, pool, **kwargs)\u001b[0m\n\u001b[1;32m     86\u001b[0m     \u001b[38;5;28;01melif\u001b[39;00m \u001b[38;5;28misinstance\u001b[39m(pool, multiprocessing\u001b[38;5;241m.\u001b[39mpool\u001b[38;5;241m.\u001b[39mPool):\n\u001b[1;32m     87\u001b[0m         pool \u001b[38;5;241m=\u001b[39m MultiprocessingPoolExecutor(pool)\n\u001b[0;32m---> 89\u001b[0m results \u001b[38;5;241m=\u001b[39m \u001b[43mget_async\u001b[49m\u001b[43m(\u001b[49m\n\u001b[1;32m     90\u001b[0m \u001b[43m    \u001b[49m\u001b[43mpool\u001b[49m\u001b[38;5;241;43m.\u001b[39;49m\u001b[43msubmit\u001b[49m\u001b[43m,\u001b[49m\n\u001b[1;32m     91\u001b[0m \u001b[43m    \u001b[49m\u001b[43mpool\u001b[49m\u001b[38;5;241;43m.\u001b[39;49m\u001b[43m_max_workers\u001b[49m\u001b[43m,\u001b[49m\n\u001b[1;32m     92\u001b[0m \u001b[43m    \u001b[49m\u001b[43mdsk\u001b[49m\u001b[43m,\u001b[49m\n\u001b[1;32m     93\u001b[0m \u001b[43m    \u001b[49m\u001b[43mkeys\u001b[49m\u001b[43m,\u001b[49m\n\u001b[1;32m     94\u001b[0m \u001b[43m    \u001b[49m\u001b[43mcache\u001b[49m\u001b[38;5;241;43m=\u001b[39;49m\u001b[43mcache\u001b[49m\u001b[43m,\u001b[49m\n\u001b[1;32m     95\u001b[0m \u001b[43m    \u001b[49m\u001b[43mget_id\u001b[49m\u001b[38;5;241;43m=\u001b[39;49m\u001b[43m_thread_get_id\u001b[49m\u001b[43m,\u001b[49m\n\u001b[1;32m     96\u001b[0m \u001b[43m    \u001b[49m\u001b[43mpack_exception\u001b[49m\u001b[38;5;241;43m=\u001b[39;49m\u001b[43mpack_exception\u001b[49m\u001b[43m,\u001b[49m\n\u001b[1;32m     97\u001b[0m \u001b[43m    \u001b[49m\u001b[38;5;241;43m*\u001b[39;49m\u001b[38;5;241;43m*\u001b[39;49m\u001b[43mkwargs\u001b[49m\u001b[43m,\u001b[49m\n\u001b[1;32m     98\u001b[0m \u001b[43m\u001b[49m\u001b[43m)\u001b[49m\n\u001b[1;32m    100\u001b[0m \u001b[38;5;66;03m# Cleanup pools associated to dead threads\u001b[39;00m\n\u001b[1;32m    101\u001b[0m \u001b[38;5;28;01mwith\u001b[39;00m pools_lock:\n",
      "File \u001b[0;32m~/opt/miniconda3/envs/testimm/lib/python3.10/site-packages/dask/local.py:500\u001b[0m, in \u001b[0;36mget_async\u001b[0;34m(submit, num_workers, dsk, result, cache, get_id, rerun_exceptions_locally, pack_exception, raise_exception, callbacks, dumps, loads, chunksize, **kwargs)\u001b[0m\n\u001b[1;32m    498\u001b[0m \u001b[38;5;28;01mwhile\u001b[39;00m state[\u001b[38;5;124m\"\u001b[39m\u001b[38;5;124mwaiting\u001b[39m\u001b[38;5;124m\"\u001b[39m] \u001b[38;5;129;01mor\u001b[39;00m state[\u001b[38;5;124m\"\u001b[39m\u001b[38;5;124mready\u001b[39m\u001b[38;5;124m\"\u001b[39m] \u001b[38;5;129;01mor\u001b[39;00m state[\u001b[38;5;124m\"\u001b[39m\u001b[38;5;124mrunning\u001b[39m\u001b[38;5;124m\"\u001b[39m]:\n\u001b[1;32m    499\u001b[0m     fire_tasks(chunksize)\n\u001b[0;32m--> 500\u001b[0m     \u001b[38;5;28;01mfor\u001b[39;00m key, res_info, failed \u001b[38;5;129;01min\u001b[39;00m \u001b[43mqueue_get\u001b[49m\u001b[43m(\u001b[49m\u001b[43mqueue\u001b[49m\u001b[43m)\u001b[49m\u001b[38;5;241m.\u001b[39mresult():\n\u001b[1;32m    501\u001b[0m         \u001b[38;5;28;01mif\u001b[39;00m failed:\n\u001b[1;32m    502\u001b[0m             exc, tb \u001b[38;5;241m=\u001b[39m loads(res_info)\n",
      "File \u001b[0;32m~/opt/miniconda3/envs/testimm/lib/python3.10/site-packages/dask/local.py:137\u001b[0m, in \u001b[0;36mqueue_get\u001b[0;34m(q)\u001b[0m\n\u001b[1;32m    136\u001b[0m \u001b[38;5;28;01mdef\u001b[39;00m \u001b[38;5;21mqueue_get\u001b[39m(q):\n\u001b[0;32m--> 137\u001b[0m     \u001b[38;5;28;01mreturn\u001b[39;00m \u001b[43mq\u001b[49m\u001b[38;5;241;43m.\u001b[39;49m\u001b[43mget\u001b[49m\u001b[43m(\u001b[49m\u001b[43m)\u001b[49m\n",
      "File \u001b[0;32m~/opt/miniconda3/envs/testimm/lib/python3.10/queue.py:171\u001b[0m, in \u001b[0;36mQueue.get\u001b[0;34m(self, block, timeout)\u001b[0m\n\u001b[1;32m    169\u001b[0m \u001b[38;5;28;01melif\u001b[39;00m timeout \u001b[38;5;129;01mis\u001b[39;00m \u001b[38;5;28;01mNone\u001b[39;00m:\n\u001b[1;32m    170\u001b[0m     \u001b[38;5;28;01mwhile\u001b[39;00m \u001b[38;5;129;01mnot\u001b[39;00m \u001b[38;5;28mself\u001b[39m\u001b[38;5;241m.\u001b[39m_qsize():\n\u001b[0;32m--> 171\u001b[0m         \u001b[38;5;28;43mself\u001b[39;49m\u001b[38;5;241;43m.\u001b[39;49m\u001b[43mnot_empty\u001b[49m\u001b[38;5;241;43m.\u001b[39;49m\u001b[43mwait\u001b[49m\u001b[43m(\u001b[49m\u001b[43m)\u001b[49m\n\u001b[1;32m    172\u001b[0m \u001b[38;5;28;01melif\u001b[39;00m timeout \u001b[38;5;241m<\u001b[39m \u001b[38;5;241m0\u001b[39m:\n\u001b[1;32m    173\u001b[0m     \u001b[38;5;28;01mraise\u001b[39;00m \u001b[38;5;167;01mValueError\u001b[39;00m(\u001b[38;5;124m\"\u001b[39m\u001b[38;5;124m'\u001b[39m\u001b[38;5;124mtimeout\u001b[39m\u001b[38;5;124m'\u001b[39m\u001b[38;5;124m must be a non-negative number\u001b[39m\u001b[38;5;124m\"\u001b[39m)\n",
      "File \u001b[0;32m~/opt/miniconda3/envs/testimm/lib/python3.10/threading.py:320\u001b[0m, in \u001b[0;36mCondition.wait\u001b[0;34m(self, timeout)\u001b[0m\n\u001b[1;32m    318\u001b[0m \u001b[38;5;28;01mtry\u001b[39;00m:    \u001b[38;5;66;03m# restore state no matter what (e.g., KeyboardInterrupt)\u001b[39;00m\n\u001b[1;32m    319\u001b[0m     \u001b[38;5;28;01mif\u001b[39;00m timeout \u001b[38;5;129;01mis\u001b[39;00m \u001b[38;5;28;01mNone\u001b[39;00m:\n\u001b[0;32m--> 320\u001b[0m         \u001b[43mwaiter\u001b[49m\u001b[38;5;241;43m.\u001b[39;49m\u001b[43macquire\u001b[49m\u001b[43m(\u001b[49m\u001b[43m)\u001b[49m\n\u001b[1;32m    321\u001b[0m         gotit \u001b[38;5;241m=\u001b[39m \u001b[38;5;28;01mTrue\u001b[39;00m\n\u001b[1;32m    322\u001b[0m     \u001b[38;5;28;01melse\u001b[39;00m:\n",
      "\u001b[0;31mKeyboardInterrupt\u001b[0m: "
     ]
    },
    {
     "data": {
      "image/png": "[encoded data removed]",
      "text/plain": [
       "<Figure size 1800x1800 with 4 Axes>"
      ]
     },
     "metadata": {},
     "output_type": "display_data"
    }
   ],
   "source": [
    "# Impact of waves on speed (regionally averaged) \n",
    "\n",
    "\n",
    "nctic = 5\n",
    "zlev = 0\n",
    "\n",
    "colm = cm.RdBu_r \n",
    "levs = np.arange(-0.02, 0.02, 0.002)\n",
    "norm = colors.BoundaryNorm(boundaries=levs+0.002/2, ncolors=colm.N)\n",
    "ncticks = [-0.016, -0.008, 0, 0.008, 0.016]\n",
    "\n",
    "fig = plt.figure(figsize=(6,6), dpi=300, constrained_layout=False)\n",
    "gs = fig.add_gridspec(nrows=6, ncols=3, \n",
    "                      left=0.1, right=0.9,\n",
    "                      wspace=0.03, hspace=0.07)\n",
    "gs2 = fig.add_gridspec(nrows=5, ncols=5, \n",
    "                      left=0.1, right=0.9,\n",
    "                      wspace=0.05, hspace=0.15)\n",
    "gscbar = fig.add_gridspec(nrows=6, ncols=100, \n",
    "                          left=0.1, right=1.0,\n",
    "                          wspace=0.03, hspace=0.07)\n",
    "\n",
    "## Eulerian impact\n",
    "### annual mean\n",
    "ax = fig.add_subplot(gs[5,0])\n",
    "var1 = speed_tave_ds.isel(z=zlev).EcProjEcSc\n",
    "var2 = speed_tave_ds.isel(z=zlev).Enc\n",
    "map,Eul_ann = build_subplot_pcolorregspeeddiff(var1, var2, colm, norm)\n",
    "cbaxes = fig.add_subplot(gscbar[3:6,90:92])\n",
    "cbar = plt.colorbar(map, cax = cbaxes, ticks=ncticks,\n",
    "                    orientation='vertical', extend='both')\n",
    "cbar.ax.tick_params(labelsize=fs)\n",
    "cbar.minorticks_off()\n",
    "ax.set_ylabel('Eulerian current\\ncontribution', fontsize=fs)\n",
    "at = AnchoredText('g)', prop=dict(size=fs), frameon=True, loc='upper left')\n",
    "at.patch.set_linewidth(lw_box)\n",
    "ax.add_artist(at) \n",
    "### summer mean\n",
    "ax = fig.add_subplot(gs[5,1])\n",
    "var1 = speed_tsave_ds.sel(season='JJA').isel(z=zlev).EcProjEcSc\n",
    "var2 = speed_tsave_ds.sel(season='JJA').isel(z=zlev).Enc\n",
    "map,Eul_jja = build_subplot_pcolorregspeeddiff(var1, var2, colm, norm, yticklabel=False)\n",
    "at = AnchoredText('h)', prop=dict(size=fs), frameon=True, loc='upper left')\n",
    "at.patch.set_linewidth(lw_box)\n",
    "ax.add_artist(at) \n",
    "### winter mean\n",
    "ax = fig.add_subplot(gs[5,2])\n",
    "var1 = speed_tsave_ds.sel(season='DJF').isel(z=zlev).EcProjEcSc\n",
    "var2 = speed_tsave_ds.sel(season='DJF').isel(z=zlev).Enc\n",
    "map, Eul_djf = build_subplot_pcolorregspeeddiff(var1, var2, colm, norm, yticklabel=False)\n",
    "at = AnchoredText('i)', prop=dict(size=fs), frameon=True, loc='upper left')\n",
    "at.patch.set_linewidth(lw_box)\n",
    "ax.add_artist(at) \n",
    "\n",
    "## Stokes drift impact\n",
    "### annual mean\n",
    "ax = fig.add_subplot(gs[4,0])\n",
    "var1 = speed_tave_ds.isel(z=zlev).ScProjEcSc\n",
    "map, Sto_ann = build_subplot_pcolorregspeeddiff2(var1, colm, norm, xticklabel=False)\n",
    "ax.set_ylabel('Stokes drift\\ncontribution', fontsize=fs)\n",
    "at = AnchoredText('d)', prop=dict(size=fs), frameon=True, loc='upper left')\n",
    "at.patch.set_linewidth(lw_box)\n",
    "ax.add_artist(at) \n",
    "### summer mean\n",
    "ax = fig.add_subplot(gs[4,1])\n",
    "var1 = speed_tsave_ds.sel(season='JJA').isel(z=zlev).ScProjEcSc\n",
    "map, Sto_jja = build_subplot_pcolorregspeeddiff2(var1, colm, norm, yticklabel=False, xticklabel=False)\n",
    "at = AnchoredText('e)', prop=dict(size=fs), frameon=True, loc='upper left')\n",
    "at.patch.set_linewidth(lw_box)\n",
    "ax.add_artist(at) \n",
    "### winter mean\n",
    "ax = fig.add_subplot(gs[4,2])\n",
    "var1 = speed_tsave_ds.sel(season='DJF').isel(z=zlev).ScProjEcSc\n",
    "map, Sto_djf = build_subplot_pcolorregspeeddiff2(var1, colm, norm, yticklabel=False, xticklabel=False)\n",
    "ax.text(55,latmin_plot+(latmax_plot-latmin_plot)/2, 'Change in speed [$m s^{-1}$]', \n",
    "        fontsize=fs, horizontalalignment='center', verticalalignment='center', rotation=90)\n",
    "at = AnchoredText('f)', prop=dict(size=fs), frameon=True, loc='upper left')\n",
    "at.patch.set_linewidth(lw_box)\n",
    "ax.add_artist(at) \n",
    "\n",
    "## Total impact\n",
    "### annual mean\n",
    "ax = fig.add_subplot(gs[3,0])\n",
    "var1 = speed_tave_ds.isel(z=zlev).EcSc\n",
    "var2 = speed_tave_ds.isel(z=zlev).Enc\n",
    "map, Tot_ann = build_subplot_pcolorregspeeddiff(var1, var2, colm, norm, xticklabel=False)\n",
    "ax.set_ylabel('Total impact', fontsize=fs)\n",
    "ax.set_title('Annual mean', fontsize=fs)\n",
    "add_regnumbers()\n",
    "at = AnchoredText('a)', prop=dict(size=fs), frameon=True, loc='upper left')\n",
    "at.patch.set_linewidth(lw_box)\n",
    "ax.add_artist(at) \n",
    "### summer mean\n",
    "ax = fig.add_subplot(gs[3,1])\n",
    "var1 = speed_tsave_ds.sel(season='JJA').isel(z=zlev).EcSc\n",
    "var2 = speed_tsave_ds.sel(season='JJA').isel(z=zlev).Enc\n",
    "map, Tot_jja = build_subplot_pcolorregspeeddiff(var1, var2, colm, norm, yticklabel=False, xticklabel=False)\n",
    "ax.set_title('Summer (JJA) mean', fontsize=fs)\n",
    "at = AnchoredText('b)', prop=dict(size=fs), frameon=True, loc='upper left')\n",
    "at.patch.set_linewidth(lw_box)\n",
    "ax.add_artist(at) \n",
    "### winter mean\n",
    "ax = fig.add_subplot(gs[3,2])\n",
    "var1 = speed_tsave_ds.sel(season='DJF').isel(z=zlev).EcSc\n",
    "var2 = speed_tsave_ds.sel(season='DJF').isel(z=zlev).Enc\n",
    "map, Tot_djf = build_subplot_pcolorregspeeddiff(var1, var2, colm, norm, yticklabel=False, xticklabel=False)\n",
    "ax.set_title('Winter (DJF) mean', fontsize=fs)\n",
    "at = AnchoredText('c)', prop=dict(size=fs), frameon=True, loc='upper left')\n",
    "at.patch.set_linewidth(lw_box)\n",
    "ax.add_artist(at) \n",
    "\n",
    "## Overall region statistics\n",
    "#ax = fig.add_subplot(gs2[0:2,1:4])\n",
    "#build_subplot_regstats(Tot_ann,Tot_jja,Tot_djf,Sto_ann,Sto_jja,Sto_djf,Eul_ann,Eul_jja,Eul_djf)\n",
    "#ax.set_xlabel('Region', fontsize=fs)\n",
    "#ax.set_ylabel('Change in speed [$m s^{-1}$]', fontsize=fs)\n",
    "#ax.set_title('Regionally averaged impact of waves on horizontal Lagrangian surface speed', fontsize=fs)\n",
    "#at = AnchoredText('a)', prop=dict(size=fs), frameon=True, loc='upper left')\n",
    "#at.patch.set_linewidth(lw_box)\n",
    "#ax.add_artist(at) "
   ]
  },
  {
   "cell_type": "code",
   "execution_count": null,
   "metadata": {},
   "outputs": [],
   "source": [
    "# save the Figure\n",
    "\n",
    "fig.savefig('../figs/png/fig04.png', dpi=300,\n",
    "            bbox_inches='tight', pad_inches=0.1)\n",
    "fig.savefig('../figs/png-transparent/fig04.png', dpi=300,\n",
    "            bbox_inches='tight', pad_inches=0.1,\n",
    "            transparent=True)"
   ]
  },
  {
   "cell_type": "markdown",
   "metadata": {},
   "source": [
    "### 4.3 Figure S1: Impact of the representation of surface waves on simulated mean Lagrangian surface speed in predefined regions of the Mediterranean Sea."
   ]
  },
  {
   "cell_type": "code",
   "execution_count": null,
   "metadata": {},
   "outputs": [],
   "source": [
    "# Impact of waves on speed (regionally averaged) \n",
    "\n",
    "\n",
    "nctic = 5\n",
    "zlev = 0\n",
    "\n",
    "colm = cm.RdBu_r \n",
    "levs = np.arange(-0.02, 0.02, 0.002)\n",
    "norm = colors.BoundaryNorm(boundaries=levs+0.002/2, ncolors=colm.N)\n",
    "ncticks = [-0.016, -0.008, 0, 0.008, 0.016]\n",
    "\n",
    "fig = plt.figure(figsize=(6,6), dpi=300, constrained_layout=False)\n",
    "gs = fig.add_gridspec(nrows=6, ncols=3, \n",
    "                      left=0.1, right=0.9,\n",
    "                      wspace=0.03, hspace=0.07)\n",
    "gs2 = fig.add_gridspec(nrows=5, ncols=5, \n",
    "                      left=0.1, right=0.9,\n",
    "                      wspace=0.05, hspace=0.15)\n",
    "gscbar = fig.add_gridspec(nrows=6, ncols=100, \n",
    "                          left=0.1, right=1.0,\n",
    "                          wspace=0.03, hspace=0.07)\n",
    "\n",
    "\n",
    "## Overall region statistics\n",
    "ax = fig.add_subplot(gs2[0:2,1:4])\n",
    "build_subplot_regstats(Tot_ann,Tot_jja,Tot_djf,Sto_ann,Sto_jja,Sto_djf,Eul_ann,Eul_jja,Eul_djf)\n",
    "ax.set_xlabel('Region', fontsize=fs)\n",
    "ax.set_ylabel('Change in speed [$m s^{-1}$]', fontsize=fs)\n",
    "ax.set_title('Regionally averaged impact of waves on horizontal Lagrangian surface speed', fontsize=fs)\n",
    "at = AnchoredText('a)', prop=dict(size=fs), frameon=True, loc='upper left')\n",
    "at.patch.set_linewidth(lw_box)\n",
    "ax.add_artist(at) \n"
   ]
  },
  {
   "cell_type": "code",
   "execution_count": null,
   "metadata": {},
   "outputs": [],
   "source": [
    "# save the Figure\n",
    "\n",
    "fig.savefig('../figs/png/figS1.png', dpi=300,\n",
    "            bbox_inches='tight', pad_inches=0.1)\n",
    "fig.savefig('../figs/png-transparent/figS1.png', dpi=300,\n",
    "            bbox_inches='tight', pad_inches=0.1,\n",
    "            transparent=True)"
   ]
  }
 ],
 "metadata": {
  "kernelspec": {
   "display_name": "testEnv",
   "language": "python",
   "name": "python3"
  },
  "language_info": {
   "codemirror_mode": {
    "name": "ipython",
    "version": 3
   },
   "file_extension": ".py",
   "mimetype": "text/x-python",
   "name": "python",
   "nbconvert_exporter": "python",
   "pygments_lexer": "ipython3",
   "version": "3.10.8"
  },
  "orig_nbformat": 4
 },
 "nbformat": 4,
 "nbformat_minor": 2
}
